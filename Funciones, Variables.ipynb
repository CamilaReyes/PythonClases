{
 "cells": [
  {
   "cell_type": "code",
   "execution_count": 153,
   "metadata": {},
   "outputs": [
    {
     "data": {
      "text/plain": [
       "'camiselrgaio'"
      ]
     },
     "execution_count": 153,
     "metadata": {},
     "output_type": "execute_result"
    }
   ],
   "source": [
    "import numpy as np  #que dos palabra se mezclan entre si creando una nueva, FORMA EFICIENTE\n",
    "\n",
    "def shout2(word1, word2):\n",
    "    def shout(word1, word2):\n",
    "        mensaje=[]\n",
    "        tamaLetras= len(word1)+ len(word2)\n",
    "        tama1= len(word1)\n",
    "        tama2= len(word2)\n",
    " #   if tama1<tama2:\n",
    "  #      tamale=tama1\n",
    "   # elif tama1>tama2:\n",
    "    #    tamale=tama2\n",
    "        \n",
    "        count1=0\n",
    "        count2=0\n",
    "        for i in range(tamaLetras):\n",
    "            aleatorio= np.random.rand()\n",
    "            if round(aleatorio, 1)>=0.5 and count1<len(word1): #IMPORTANTE\n",
    "    \n",
    "                mensaje.append(word1[count1]) #añadir append, meter letra por letra, segun el contador\n",
    "                count1 +=1 # count1= count+1\n",
    "            elif count2<len(word2):\n",
    "           \n",
    "                mensaje.append(word2[count2])\n",
    "                count2 +=1\n",
    "    return \"\".join(mensaje)\n",
    "\n",
    "shout(\"camila\", \"sergio\")"
   ]
  },
  {
   "cell_type": "code",
   "execution_count": 163,
   "metadata": {},
   "outputs": [
    {
     "data": {
      "text/plain": [
       "('csaemrilagio', 'sergcamiilao')"
      ]
     },
     "execution_count": 163,
     "metadata": {},
     "output_type": "execute_result"
    }
   ],
   "source": [
    "def shout2b(word1,word2):\n",
    "    palabra1=shout(word1,word2)\n",
    "    palabra2=shout(word1,word2)\n",
    "    \n",
    "    return palabra1, palabra2\n",
    "\n",
    "shout2b(\"camila\",\"sergio\")"
   ]
  },
  {
   "cell_type": "code",
   "execution_count": 166,
   "metadata": {},
   "outputs": [
    {
     "name": "stdout",
     "output_type": "stream",
     "text": [
      "54.6 µs ± 1.92 µs per loop (mean ± std. dev. of 7 runs, 10000 loops each)\n"
     ]
    }
   ],
   "source": [
    "%timeit shout2b(\"camila\",\"sergio\")\n"
   ]
  },
  {
   "cell_type": "code",
   "execution_count": 165,
   "metadata": {},
   "outputs": [
    {
     "name": "stdout",
     "output_type": "stream",
     "text": [
      "27.6 µs ± 2.46 µs per loop (mean ± std. dev. of 7 runs, 10000 loops each)\n"
     ]
    }
   ],
   "source": [
    "%timeit shout(\"camila\",\"sergio\")"
   ]
  },
  {
   "cell_type": "markdown",
   "metadata": {},
   "source": [
    "# Scope in Functions\n",
    "\n",
    "* global scope\n",
    "* local scope\n",
    "* built-in scope\n"
   ]
  },
  {
   "cell_type": "code",
   "execution_count": 168,
   "metadata": {},
   "outputs": [],
   "source": [
    "#global scope\n",
    "\n",
    "x=\"global\"\n",
    "\n",
    "def foo():\n",
    "    print(\"x value inside :\", x)\n"
   ]
  },
  {
   "cell_type": "code",
   "execution_count": 170,
   "metadata": {},
   "outputs": [
    {
     "name": "stdout",
     "output_type": "stream",
     "text": [
      "x value inside : global\n",
      "x value :  global\n"
     ]
    }
   ],
   "source": [
    "foo()\n",
    "print(\"x value outside: \", x)"
   ]
  },
  {
   "cell_type": "code",
   "execution_count": 177,
   "metadata": {},
   "outputs": [
    {
     "name": "stdout",
     "output_type": "stream",
     "text": [
      "x inside globalglobal\n"
     ]
    }
   ],
   "source": [
    "def foo(): #No se peude cambiar una variable global dentro de una funcion\n",
    "    global x #esta es la forma de corregir el error, diciendole que es global\n",
    "    x= x * 2\n",
    "    print(\"x inside\", x)\n",
    "\n",
    "foo()\n"
   ]
  },
  {
   "cell_type": "code",
   "execution_count": 187,
   "metadata": {},
   "outputs": [
    {
     "name": "stdout",
     "output_type": "stream",
     "text": [
      "local\n"
     ]
    }
   ],
   "source": [
    "def foo(): #variable local\n",
    "    y = \"local\"\n",
    "    print(y)\n",
    "\n",
    "#print(y) no sirve ya que es local\n",
    "foo() #debo llamar a foo osea la funcion para que funcione\n"
   ]
  },
  {
   "cell_type": "code",
   "execution_count": 188,
   "metadata": {},
   "outputs": [
    {
     "data": {
      "text/plain": [
       "15"
      ]
     },
     "execution_count": 188,
     "metadata": {},
     "output_type": "execute_result"
    }
   ],
   "source": [
    "#built-in scope\n",
    "#variables reservadas, creadas por python no se pueden modificar\n",
    "sum([1,2,3,4,5])"
   ]
  },
  {
   "cell_type": "code",
   "execution_count": 195,
   "metadata": {},
   "outputs": [],
   "source": [
    "def factorial(number):\n",
    "    if not isinstance(number, int): #verificar que los numeros sean enteros, el not cambia el boleano. false a true, \n",
    "        print(\"Ingrese un numero\")\n",
    "        \n",
    "    if not number>=0: #si el numero ingresado no es mayor o igual que sero entonces\n",
    "        print(\"los factoriales negativos no existen\")\n",
    "    \n",
    "    def inner_factorial(number):\n",
    "        if number<=1:\n",
    "            return 1\n",
    "        else:\n",
    "            return number*inner_factorial(number-1)\n",
    "    return inner_factorial(number)"
   ]
  },
  {
   "cell_type": "code",
   "execution_count": 196,
   "metadata": {},
   "outputs": [
    {
     "data": {
      "text/plain": [
       "24"
      ]
     },
     "execution_count": 196,
     "metadata": {},
     "output_type": "execute_result"
    }
   ],
   "source": [
    "factorial(4)"
   ]
  },
  {
   "cell_type": "code",
   "execution_count": 205,
   "metadata": {},
   "outputs": [],
   "source": [
    "def outer():\n",
    "   # x=\"local\"\n",
    "    def inner():\n",
    "        nonlocal x\n",
    "        x=\"SuperLocal\"\n",
    "        print(\"x es inner function\", x)\n",
    "    inner()\n",
    "    x= x*2 #no se puede modificar una variable super local desde afuera se debe usar nonlocal\n",
    "    print(\"X es un outer function\", x)"
   ]
  },
  {
   "cell_type": "code",
   "execution_count": 206,
   "metadata": {},
   "outputs": [
    {
     "name": "stdout",
     "output_type": "stream",
     "text": [
      "x es inner function SuperLocal\n",
      "X es un outer function SuperLocalSuperLocal\n"
     ]
    }
   ],
   "source": [
    "outer()"
   ]
  },
  {
   "cell_type": "markdown",
   "metadata": {},
   "source": [
    "# Default and felxible parameters"
   ]
  },
  {
   "cell_type": "code",
   "execution_count": 214,
   "metadata": {},
   "outputs": [],
   "source": [
    "def salto(n, salto =1): #numero superior y salto, el igual a 1 es el default, por defecto lo imprima por uno\n",
    "    lista=[]\n",
    "    for i in range (0, n, salto):\n",
    "        lista.append(i)\n",
    "    \n",
    "    return lista\n"
   ]
  },
  {
   "cell_type": "code",
   "execution_count": 215,
   "metadata": {},
   "outputs": [
    {
     "data": {
      "text/plain": [
       "[0, 1, 2, 3, 4, 5, 6, 7, 8, 9]"
      ]
     },
     "execution_count": 215,
     "metadata": {},
     "output_type": "execute_result"
    }
   ],
   "source": [
    "salto(10)"
   ]
  },
  {
   "cell_type": "code",
   "execution_count": 222,
   "metadata": {},
   "outputs": [],
   "source": [
    "#Le podemos poner todos los valores que querramos y el va a realizar la accion\n",
    "def add_all(*args):#parametro flexible debe ser *args\n",
    "    sum_all=0\n",
    "    print(type(args))\n",
    "    for i in args:\n",
    "        sum_all+=i\n",
    "    return sum_all"
   ]
  },
  {
   "cell_type": "code",
   "execution_count": null,
   "metadata": {},
   "outputs": [],
   "source": []
  },
  {
   "cell_type": "code",
   "execution_count": 223,
   "metadata": {},
   "outputs": [
    {
     "name": "stdout",
     "output_type": "stream",
     "text": [
      "<class 'tuple'>\n"
     ]
    },
    {
     "data": {
      "text/plain": [
       "21"
      ]
     },
     "execution_count": 223,
     "metadata": {},
     "output_type": "execute_result"
    }
   ],
   "source": [
    "add_all(1,2,3,4,5,6)"
   ]
  },
  {
   "cell_type": "code",
   "execution_count": 248,
   "metadata": {},
   "outputs": [],
   "source": [
    "\n",
    "def datos1(*args):\n",
    "    diccionario={\n",
    "        \"nombre\": args[0], \n",
    "        \"apellido\": args[1], \n",
    "        \"edad\": args[2], \n",
    "        \"genero\" : args[3]\n",
    "    }\n",
    "   \n",
    "       \n",
    "    return diccionario\n",
    "\n"
   ]
  },
  {
   "cell_type": "code",
   "execution_count": 249,
   "metadata": {},
   "outputs": [
    {
     "data": {
      "text/plain": [
       "{'nombre': 'Camila', 'apellido': 'Reyes', 'edad': 22, 'genero': 'Femenino'}"
      ]
     },
     "execution_count": 249,
     "metadata": {},
     "output_type": "execute_result"
    }
   ],
   "source": [
    "datos1(\"Camila\", \"Reyes\", 22, \"Femenino\")"
   ]
  },
  {
   "cell_type": "code",
   "execution_count": 254,
   "metadata": {},
   "outputs": [
    {
     "data": {
      "text/plain": [
       "'oigresoigresoigres'"
      ]
     },
     "execution_count": 254,
     "metadata": {},
     "output_type": "execute_result"
    }
   ],
   "source": [
    "#Tomar variables que ya estan asignadas y las multiplica por el numero de veces asignada. y si le asigno reverse true la revierte\n",
    "\n",
    "def print_all(**kwargs):\n",
    "    result= kwargs.get(\"string\") * kwargs.get(\"n\")\n",
    "    if kwargs.get(\"reverse\"):\n",
    "        return result[::-1]\n",
    "    else:\n",
    "        return result\n",
    "\n",
    "print_all(string=\"sergio\", n= 3, reverse= True)\n",
    "        \n"
   ]
  }
 ],
 "metadata": {
  "kernelspec": {
   "display_name": "Python 3",
   "language": "python",
   "name": "python3"
  },
  "language_info": {
   "codemirror_mode": {
    "name": "ipython",
    "version": 3
   },
   "file_extension": ".py",
   "mimetype": "text/x-python",
   "name": "python",
   "nbconvert_exporter": "python",
   "pygments_lexer": "ipython3",
   "version": "3.6.6"
  }
 },
 "nbformat": 4,
 "nbformat_minor": 2
}
