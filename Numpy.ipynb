{
 "cells": [
  {
   "cell_type": "markdown",
   "metadata": {},
   "source": [
    "# Numpy"
   ]
  },
  {
   "cell_type": "code",
   "execution_count": 6,
   "metadata": {},
   "outputs": [
    {
     "name": "stdout",
     "output_type": "stream",
     "text": [
      "[[[0. 0. 0.]\n",
      "  [0. 0. 0.]]]\n",
      "<class 'numpy.ndarray'>\n"
     ]
    }
   ],
   "source": [
    "#Nos permite crear arreglos, son un tipo de objeto que son optimizados para procesarce en grandes cantidades de datos\n",
    "#Importar la libreria dentro de jupiter, le estamos diciendo que busque en el directorio\n",
    "\n",
    "\n",
    "import numpy as np #Importar libreria \"as\" le colocamos un nombre a la libreria con la cual la podemos seguir llamando\n",
    "\n",
    "a=[1,2,3]\n",
    "b =[\"Nombre\",False, 3.0, 4]\n",
    "\n",
    "npCorrecto= np.ndarray(a) #De tipo lista a Numpy\n",
    "\n",
    "print(npCorrecto)\n",
    "print(type(npCorrecto)) #Verificar en que libreria esta\n"
   ]
  },
  {
   "cell_type": "code",
   "execution_count": 11,
   "metadata": {},
   "outputs": [
    {
     "name": "stdout",
     "output_type": "stream",
     "text": [
      "Nombre\n",
      "<class 'numpy.str_'>\n"
     ]
    }
   ],
   "source": [
    "exper= np.array(b)\n",
    "print(exper[0]) \n",
    "print(type(exper[0])) #String numpy"
   ]
  },
  {
   "cell_type": "code",
   "execution_count": 21,
   "metadata": {},
   "outputs": [
    {
     "name": "stdout",
     "output_type": "stream",
     "text": [
      "[[1, 2, 3], [4, 5, 6], [7, 8, 9]]\n",
      "3\n",
      "[[1 2 3]\n",
      " [4 5 6]\n",
      " [7 8 9]]\n",
      "(3, 3)\n"
     ]
    }
   ],
   "source": [
    "#Una lista de listas\n",
    "\n",
    "C=[[1,2,3],[4,5,6],[7,8,9]]\n",
    "npCorrect2 = np.array(C) #De tipo lista a Numpy\n",
    "\n",
    "print(c)\n",
    "print (len(C))\n",
    "print(npCorrect2)\n",
    "print(npCorrect2.shape) #NUmero de columnas y filas"
   ]
  },
  {
   "cell_type": "code",
   "execution_count": 30,
   "metadata": {},
   "outputs": [
    {
     "name": "stdout",
     "output_type": "stream",
     "text": [
      "15\n",
      "[[ 1  2  3]\n",
      " [ 4 15  6]\n",
      " [ 7  8 19]]\n",
      "9\n"
     ]
    }
   ],
   "source": [
    "exper= np.array(c)\n",
    "print(npCorrect2[1][1]) #Ir a una ubicacion exacta del arreglo\n",
    "\n",
    "\n",
    "npCorrect2[1,1]=15 #Modificar un dato en especifico\n",
    "npCorrect2[2,2]=19 #Manera mas optima de modificar\n",
    "print(npCorrect2) \n",
    "print(npCorrect2.size)#Cuantos elementos hay dentro de la matriz\n"
   ]
  },
  {
   "cell_type": "code",
   "execution_count": null,
   "metadata": {},
   "outputs": [],
   "source": [
    "3d = [[[1,2,3],[1,2,3]]],[[-,-]]"
   ]
  },
  {
   "cell_type": "code",
   "execution_count": 47,
   "metadata": {},
   "outputs": [
    {
     "name": "stdout",
     "output_type": "stream",
     "text": [
      "[1 2 3] \n",
      "---------\n",
      "(3,) \n",
      "---------\n",
      "[[1 2 3]\n",
      " [4 5 6]] \n",
      "---------\n",
      "(2, 3) \n",
      "---------\n",
      "[[[ 1  2  3]\n",
      "  [ 4  5  6]\n",
      "  [ 7  8  9]\n",
      "  [10 11 12]]] \n",
      "---------\n",
      "(1, 4, 3) \n",
      "---------\n"
     ]
    }
   ],
   "source": [
    "#Lista de una dimension\n",
    "\n",
    "Lista1dimen=[1,2,3]\n",
    "Lista2dimen= [[1,2,3],[4,5,6]]\n",
    "Lista3dimen= [[[1,2,3],[4,5,6],[7,8,9],[10,11,12]]]\n",
    "np1dimen= np.array(Lista1dimen)\n",
    "np2dimen= np.array(Lista2dimen)\n",
    "np3dimen= np.array(Lista3dimen)\n",
    "\n",
    "print(np1dimen, \"\\n---------\")\n",
    "print(np1dimen.shape, \"\\n---------\")\n",
    "print(np2dimen, \"\\n---------\")\n",
    "print(np2dimen.shape, \"\\n---------\")\n",
    "print(np3dimen, \"\\n---------\")\n",
    "print(np3dimen.shape, \"\\n---------\")"
   ]
  }
 ],
 "metadata": {
  "kernelspec": {
   "display_name": "Python 3",
   "language": "python",
   "name": "python3"
  },
  "language_info": {
   "codemirror_mode": {
    "name": "ipython",
    "version": 3
   },
   "file_extension": ".py",
   "mimetype": "text/x-python",
   "name": "python",
   "nbconvert_exporter": "python",
   "pygments_lexer": "ipython3",
   "version": "3.6.6"
  }
 },
 "nbformat": 4,
 "nbformat_minor": 2
}
