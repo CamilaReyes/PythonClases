{
 "cells": [
  {
   "cell_type": "code",
   "execution_count": 18,
   "metadata": {},
   "outputs": [
    {
     "name": "stdout",
     "output_type": "stream",
     "text": [
      "[3, 'El area del cubo', 36, 8]\n",
      "[[1, 2, 3], [4, 5, 6]]\n",
      "2\n",
      "(3, 'El area del cubo', 36, 8)\n"
     ]
    }
   ],
   "source": [
    "cube = 3 \n",
    "message = \"El area del cubo\"\n",
    "area = 2 * 3 * 6\n",
    "volumen = (2**3)\n",
    "data_cube = [cube, message, area , volumen]\n",
    "print(data_cube)\n",
    "\n",
    "\n",
    "A = [[1,2,3],[4,5,6]]\n",
    "print(A)\n",
    "print(len(A))\n",
    "B = ((cube, message, area , volumen))\n",
    "\n",
    "\n",
    "print(B)"
   ]
  },
  {
   "cell_type": "code",
   "execution_count": 45,
   "metadata": {},
   "outputs": [
    {
     "name": "stdout",
     "output_type": "stream",
     "text": [
      "[3, 'El area del cubo', 36, 8]\n",
      "[3, 'El area del cubo', 36, 8]\n"
     ]
    }
   ],
   "source": [
    "D = [cube, message, area , volumen]\n",
    "print(B)\n",
    "\n",
    "D[3]= True\n",
    "\n",
    "print(B)"
   ]
  },
  {
   "cell_type": "code",
   "execution_count": 27,
   "metadata": {},
   "outputs": [
    {
     "ename": "TypeError",
     "evalue": "'tuple' object does not support item assignment",
     "output_type": "error",
     "traceback": [
      "\u001b[1;31m---------------------------------------------------------------------------\u001b[0m",
      "\u001b[1;31mTypeError\u001b[0m                                 Traceback (most recent call last)",
      "\u001b[1;32m<ipython-input-27-066f5826fe93>\u001b[0m in \u001b[0;36m<module>\u001b[1;34m\u001b[0m\n\u001b[0;32m      1\u001b[0m \u001b[0mdata_cube\u001b[0m \u001b[1;33m=\u001b[0m \u001b[1;33m(\u001b[0m\u001b[0mcube\u001b[0m\u001b[1;33m,\u001b[0m \u001b[0mmessage\u001b[0m\u001b[1;33m,\u001b[0m \u001b[0marea\u001b[0m \u001b[1;33m,\u001b[0m \u001b[0mvolumen\u001b[0m\u001b[1;33m)\u001b[0m\u001b[1;33m\u001b[0m\u001b[0m\n\u001b[1;32m----> 2\u001b[1;33m \u001b[0mdata_cube\u001b[0m\u001b[1;33m[\u001b[0m\u001b[1;36m1\u001b[0m\u001b[1;33m]\u001b[0m\u001b[1;33m=\u001b[0m \u001b[1;34m\"Esta es la modificacion\"\u001b[0m\u001b[1;33m\u001b[0m\u001b[0m\n\u001b[0m\u001b[0;32m      3\u001b[0m \u001b[1;33m\u001b[0m\u001b[0m\n\u001b[0;32m      4\u001b[0m \u001b[1;33m\u001b[0m\u001b[0m\n\u001b[0;32m      5\u001b[0m \u001b[0mprint\u001b[0m\u001b[1;33m(\u001b[0m\u001b[0mB\u001b[0m\u001b[1;33m)\u001b[0m\u001b[1;33m\u001b[0m\u001b[0m\n",
      "\u001b[1;31mTypeError\u001b[0m: 'tuple' object does not support item assignment"
     ]
    }
   ],
   "source": [
    "data_cube = (cube, message, area , volumen)\n",
    "data_cube[1]= \"Esta es la modificacion\"\n",
    "\n",
    "\n",
    "print(B)"
   ]
  },
  {
   "cell_type": "code",
   "execution_count": 28,
   "metadata": {},
   "outputs": [
    {
     "name": "stdout",
     "output_type": "stream",
     "text": [
      "<class 'tuple'>\n"
     ]
    }
   ],
   "source": [
    "B = [cube, message, area , volumen]\n",
    "data_cube = (cube, message, area , volumen)\n",
    "listadentrodedupla=(B, data_cube)\n",
    "print(type(listadentrodedupla))\n"
   ]
  },
  {
   "cell_type": "code",
   "execution_count": 48,
   "metadata": {},
   "outputs": [
    {
     "name": "stdout",
     "output_type": "stream",
     "text": [
      "[3, 'El area del cubo', 36, 8, 4, 7, 9, 2, 3]\n"
     ]
    }
   ],
   "source": [
    "C = [cube, message, area , volumen, 4,7,9,2,3]\n",
    "\n",
    "print(C[0:9])"
   ]
  },
  {
   "cell_type": "code",
   "execution_count": 49,
   "metadata": {},
   "outputs": [
    {
     "name": "stdout",
     "output_type": "stream",
     "text": [
      "0.5714285714285714\n"
     ]
    }
   ],
   "source": [
    "Z = [[cube, message, area , volumen],[ 4/7,7,9,2,3]]\n",
    "\n",
    "print(Z[1][0])"
   ]
  },
  {
   "cell_type": "code",
   "execution_count": 50,
   "metadata": {},
   "outputs": [
    {
     "name": "stdout",
     "output_type": "stream",
     "text": [
      "6\n"
     ]
    }
   ],
   "source": [
    "Lista1= [1,2,3]\n",
    "Lista2= [4,5,6]\n",
    "resultado=Lista1[0]+Lista2[1]\n",
    "print(resultado)"
   ]
  },
  {
   "cell_type": "code",
   "execution_count": 52,
   "metadata": {},
   "outputs": [
    {
     "name": "stdout",
     "output_type": "stream",
     "text": [
      "[4, 10, 18]\n"
     ]
    }
   ],
   "source": [
    "Lista4= [1,2,3]\n",
    "Lista5= [4,5,6]\n",
    "resultado2=[Lista4[0]*Lista5[0],Lista4[1]*Lista5[1],Lista4[2]*Lista5[2]]\n",
    "print(resultado2)"
   ]
  },
  {
   "cell_type": "code",
   "execution_count": 54,
   "metadata": {},
   "outputs": [
    {
     "name": "stdout",
     "output_type": "stream",
     "text": [
      "3\n",
      "[6, 5, 4]\n"
     ]
    }
   ],
   "source": [
    "Lista6= [1,2,3]\n",
    "Lista7= [4,5,6]\n",
    "\n",
    "print(Lista6[-1])\n",
    "print(Lista7[::-1])"
   ]
  },
  {
   "cell_type": "code",
   "execution_count": 56,
   "metadata": {},
   "outputs": [
    {
     "name": "stdout",
     "output_type": "stream",
     "text": [
      "[1, 2, 3, 4, 5, 6, 7, 8, 9, 10]\n",
      "[1, 3, 5, 7, 9]\n",
      "[10, 9, 8, 7, 6, 5, 4, 3, 2, 1]\n",
      "[10, 8, 6, 4, 2]\n"
     ]
    }
   ],
   "source": [
    "Lista=[1,2,3,4,5,6,7,8,9,10]\n",
    "\n",
    "print(Lista)#Asi imprimimos toda la lista\n",
    "print(Lista[::2])#Asi imprimimos la lista de 2 en 2\n",
    "print(Lista[::-1])#Invertimos la lista\n",
    "print(Lista[::-2])#Invertmos la lista inversa de 2 en 2"
   ]
  },
  {
   "cell_type": "code",
   "execution_count": 59,
   "metadata": {},
   "outputs": [
    {
     "name": "stdout",
     "output_type": "stream",
     "text": [
      "[1, 2, 3, 4, 5, 6, 7, 8, 9, 10]\n",
      "[1, 2, 3, 4, 5, 6, 7, 8, 9, 10, 'Se acabo la lista']\n"
     ]
    }
   ],
   "source": [
    "#Añadir elementos a la lista, concatenar\n",
    "Lista8= [1,2,3,4,5]\n",
    "Lista9= [6,7,8,9,10]\n",
    "listaextendida= Lista8 + Lista9\n",
    "\n",
    "print(listaextendida)\n",
    "\n",
    "listaextendida.append(\"Se acabo la lista\")#Añadir un elemento a la lista\n",
    "print(listaextendida)\n"
   ]
  },
  {
   "cell_type": "code",
   "execution_count": 62,
   "metadata": {},
   "outputs": [
    {
     "name": "stdout",
     "output_type": "stream",
     "text": [
      "[1, 2, 3, 4, 5, 'Esta es una mala forma de copiar una lista']\n",
      "[1, 2, 3, 4, 5, 'Esta es una mala forma de copiar una lista']\n"
     ]
    }
   ],
   "source": [
    "#Copiar una lista para no modificar la lista original\n",
    "\n",
    "copyWrongLista8 = Lista8\n",
    "copyWrongLista8.append(\"Esta es una mala forma de copiar una lista\")\n",
    "\n",
    "print(copyWrongLista8)\n",
    "print(Lista8)#Modifico la lista orginal esto no se debe de hacer"
   ]
  },
  {
   "cell_type": "code",
   "execution_count": 65,
   "metadata": {},
   "outputs": [
    {
     "name": "stdout",
     "output_type": "stream",
     "text": [
      "[6, 7, 8, 9, 10, 'Esto es una buena forma de copiar']\n",
      "[6, 7, 8, 9, 10]\n"
     ]
    }
   ],
   "source": [
    "#Copiar una lista para no modificar la lista original\n",
    "\n",
    "copyGoodLista = list(Lista9)\n",
    "copyGoodLista.append(\"Esto es una buena forma de copiar\")\n",
    "\n",
    "print(copyGoodLista)\n",
    "print(Lista9)"
   ]
  }
 ],
 "metadata": {
  "kernelspec": {
   "display_name": "Python 3",
   "language": "python",
   "name": "python3"
  },
  "language_info": {
   "codemirror_mode": {
    "name": "ipython",
    "version": 3
   },
   "file_extension": ".py",
   "mimetype": "text/x-python",
   "name": "python",
   "nbconvert_exporter": "python",
   "pygments_lexer": "ipython3",
   "version": "3.6.6"
  }
 },
 "nbformat": 4,
 "nbformat_minor": 2
}
