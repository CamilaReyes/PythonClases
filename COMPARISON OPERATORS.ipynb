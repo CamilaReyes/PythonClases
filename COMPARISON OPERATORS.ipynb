{
 "cells": [
  {
   "cell_type": "code",
   "execution_count": 2,
   "metadata": {},
   "outputs": [],
   "source": [
    "#Igual\n",
    "\n",
    "igual= 2 ==3"
   ]
  },
  {
   "cell_type": "code",
   "execution_count": 3,
   "metadata": {},
   "outputs": [
    {
     "name": "stdout",
     "output_type": "stream",
     "text": [
      "[[1000  950]\n",
      " [ 870 1200]]\n",
      "[[ True False]\n",
      " [False  True]]\n",
      "[1000 1200]\n"
     ]
    }
   ],
   "source": [
    "import numpy as np\n",
    "listaPes=[1000,950,870,1200]\n",
    "arreglopes= np.array(listaPes).reshape(2,2)\n",
    "print(arreglopes)\n",
    "mascarLogica= np.logical_and(arreglopes>=1000, arreglopes<1500)#mascara logica entre y entre. compara entre toda la lista\n",
    "print(mascarLogica)\n",
    "print(arreglopes[mascarLogica])#Imprima los numero que cumplen la condicion"
   ]
  },
  {
   "cell_type": "code",
   "execution_count": 4,
   "metadata": {},
   "outputs": [
    {
     "name": "stdout",
     "output_type": "stream",
     "text": [
      "True\n"
     ]
    }
   ],
   "source": [
    "#Ejemplo\n",
    "\n",
    "edades=[36, 27, 25,24,22]\n",
    "print( edades[0]>edades[1] and edades [0]> edades [2]> edades [3]> edades [4])\n",
    "\n"
   ]
  },
  {
   "cell_type": "markdown",
   "metadata": {},
   "source": [
    "## Conditional statements"
   ]
  },
  {
   "cell_type": "code",
   "execution_count": 5,
   "metadata": {},
   "outputs": [
    {
     "name": "stdout",
     "output_type": "stream",
     "text": [
      "La casa es grande\n"
     ]
    }
   ],
   "source": [
    "area=50\n",
    "\n",
    "if(area>=50):\n",
    "    print(\"La casa es grande\")\n",
    "elif(area<50 and area>40):\n",
    "    print(\"La casa es mediana\")\n",
    "else:\n",
    "    print(\"La casa es pequeña\")"
   ]
  },
  {
   "cell_type": "code",
   "execution_count": 6,
   "metadata": {},
   "outputs": [
    {
     "ename": "SyntaxError",
     "evalue": "invalid syntax (<ipython-input-6-26d9eaa4c5e5>, line 4)",
     "output_type": "error",
     "traceback": [
      "\u001b[1;36m  File \u001b[1;32m\"<ipython-input-6-26d9eaa4c5e5>\"\u001b[1;36m, line \u001b[1;32m4\u001b[0m\n\u001b[1;33m    switch(nombre):\u001b[0m\n\u001b[1;37m                    ^\u001b[0m\n\u001b[1;31mSyntaxError\u001b[0m\u001b[1;31m:\u001b[0m invalid syntax\n"
     ]
    }
   ],
   "source": [
    "#Recorridos\n",
    "\n",
    "nombre= \"Carla\"\n",
    "switch(nombre): \n",
    "    case \"andres\": print(\"El nombre es andres\");\n",
    "            break;\n",
    "    case \"joy\": print(\"El nombre es andres\");\n",
    "    \n"
   ]
  },
  {
   "cell_type": "markdown",
   "metadata": {},
   "source": [
    "## Loops"
   ]
  },
  {
   "cell_type": "code",
   "execution_count": null,
   "metadata": {},
   "outputs": [],
   "source": [
    "#\n",
    "\n",
    "error= 10\n",
    "\n",
    "while error>0.1: #\"coge el error y lo divide hasta que se cumpla la condicion\"\n",
    "    error= error/4\n",
    "    print(error)"
   ]
  },
  {
   "cell_type": "code",
   "execution_count": null,
   "metadata": {},
   "outputs": [],
   "source": [
    "offset=8\n",
    "while offset!=0:\n",
    "    print(\"Entrada al ciclo\", offset)\n",
    "    offset= offset-1\n",
    "    print(\"Salida del ciclo\", offset)"
   ]
  },
  {
   "cell_type": "code",
   "execution_count": null,
   "metadata": {},
   "outputs": [],
   "source": [
    "farm=[1.73, 1.68, 1.71,1.89]\n",
    "for valores in farm:\n",
    "    print(\"Index {1}: {0}\".format(farm.index(valores), valores ))#dudas\n",
    "    valores= valores*2\n",
    "    \n",
    "    \n",
    "farm=[1.73, 1.68, 1.71,1.89]\n",
    "for valores in farm:\n",
    "    print(\"Index\", farm.index(valores), \":\", valores)\n",
    "    valores= valores*2"
   ]
  },
  {
   "cell_type": "code",
   "execution_count": null,
   "metadata": {},
   "outputs": [],
   "source": [
    "#Recorrido-Iterar\n",
    "ArregloFarm= np.array(farm)\n",
    "for index, value in enumerate(ArregloFarm):\n",
    "    if()\n",
    "    print(index, value)"
   ]
  },
  {
   "cell_type": "code",
   "execution_count": null,
   "metadata": {},
   "outputs": [],
   "source": [
    "weight= [74,72,78,80,90]\n",
    "height= [180,190,200,150,195]\n",
    "np_height= np.array(height)\n",
    "np_weight= np.array(weight)\n",
    "np_baseball= np.vstack((np_height, np_weight))\n",
    "print(np_baseball)\n",
    "#ierar sobre valores\n",
    "prueba= np.nditer(np_baseball) #Todos los contenidos internos de la lista sin importar la posicion (la vuelve una lista una debajo de otra)\n",
    "for index, valores in enumerate(prueba):\n",
    "    print(\"index: {0} -- {1}\".format(index, valores))"
   ]
  },
  {
   "cell_type": "code",
   "execution_count": null,
   "metadata": {},
   "outputs": [],
   "source": [
    "#Iterar sobre fias. osea que imprima fila por fila\n",
    "for index, rows in enumerate(np_baseball):\n",
    "    print(\"index: {0} -- {1}\".format(index, rows))"
   ]
  },
  {
   "cell_type": "code",
   "execution_count": null,
   "metadata": {},
   "outputs": [],
   "source": [
    "#Iterar sobre columnas, IMPRIME POR COLUMNAS\n",
    "for index, colums in enumerate(np_baseball.T):\n",
    " print(\"index: {0} -- {1}\".format(index, colums))"
   ]
  },
  {
   "cell_type": "code",
   "execution_count": null,
   "metadata": {},
   "outputs": [],
   "source": [
    "#Generar Numeros aleatorios. random funcion, rand el metodo\n",
    "\n",
    "\n",
    "print(np.random.rand())#entre 0 y 1 siempre, 0 a 100%\n",
    "print(np.random.rand(1,2)) #filas y columnas\n",
    "\n"
   ]
  },
  {
   "cell_type": "code",
   "execution_count": null,
   "metadata": {},
   "outputs": [],
   "source": [
    "np.random.seed(1)#modifica el  numero de la semilla, fija el numero random\n",
    "print(np.random.rand())"
   ]
  },
  {
   "cell_type": "code",
   "execution_count": null,
   "metadata": {},
   "outputs": [],
   "source": [
    "np.random.seed(1)#modifica el  numero de la semilla, es un espejo del de arriba, ancla # aleatorios. siguen el mismo patron. para replicar modelos\n",
    "print(np.random.rand())"
   ]
  },
  {
   "cell_type": "code",
   "execution_count": null,
   "metadata": {},
   "outputs": [],
   "source": [
    "#Numeros aleatorios enteros\n",
    "print(np.random.randint(1,10,10)) #No toca el 10, el 3 valor es la cantidad de numero que deseamos\n",
    "\n",
    "for i in range(0,10): #un rango entre 0 y 10\n",
    "    print(np.random.randint(1,10,10))\n",
    "    \n",
    "for i in range(0,10): #un rango entre 0 y 10\n",
    "    print(\"\\n\",i)\n"
   ]
  },
  {
   "cell_type": "code",
   "execution_count": null,
   "metadata": {},
   "outputs": [],
   "source": [
    "for index, value in enumerate(np.arange(0,10,1)): #un rango entre 0 y 10\n",
    "    print(\"\\n\",value)\n"
   ]
  },
  {
   "cell_type": "code",
   "execution_count": 10,
   "metadata": {},
   "outputs": [
    {
     "name": "stdout",
     "output_type": "stream",
     "text": [
      "[4 2 4 4 2]\n",
      "[1 1 1 3 4]\n",
      "[3 3 4 2 2]\n",
      "[1 3 3 3 1]\n",
      "[3 2 2 4 2]\n",
      "[2 3 1 4 3]\n"
     ]
    }
   ],
   "source": [
    "#dado 50 veces cual es el numero que sale mas veces\n",
    "\n",
    "\n",
    "for i in range(1,7): #un rango entre 0 y 10\n",
    "    print(np.random.randint(1,5,5))\n",
    "#Arre\n"
   ]
  }
 ],
 "metadata": {
  "kernelspec": {
   "display_name": "Python 3",
   "language": "python",
   "name": "python3"
  }
 },
 "nbformat": 4,
 "nbformat_minor": 2
}
