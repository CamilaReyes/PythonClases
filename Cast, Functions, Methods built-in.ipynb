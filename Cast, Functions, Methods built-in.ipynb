{
 "cells": [
  {
   "cell_type": "markdown",
   "metadata": {},
   "source": [
    "# Funciones with Cast\n"
   ]
  },
  {
   "cell_type": "code",
   "execution_count": 6,
   "metadata": {},
   "outputs": [
    {
     "name": "stdout",
     "output_type": "stream",
     "text": [
      "<class 'float'>\n",
      "<class 'int'>\n",
      "<class 'float'>\n",
      "<class 'float'>\n",
      "Ahora el boleano1 que era 1 es un  True\n",
      "Ahora el boleano1 que era 2 es un  False\n"
     ]
    }
   ],
   "source": [
    "a= 2.0\n",
    "print(type(a))\n",
    "enteroa= int(a) #Cambiar el tipo de variable a otra\n",
    "print(type(enteroa))\n",
    "\n",
    "floata= float(enteroa)\n",
    "print(type(floata))#Se volvio a cambiar de entero a float\n",
    "\n",
    "\n",
    "stringNumero= \"12.5\"\n",
    "floatstring= float(stringNumero)\n",
    "print(type(floatstring))\n",
    "\n",
    "boleano1= 1\n",
    "boleano2= 0\n",
    "print(\"Ahora el boleano1 que era 1 es un \", bool(boleano1))\n",
    "print(\"Ahora el boleano1 que era 0 es un \", bool(boleano2))"
   ]
  },
  {
   "cell_type": "code",
   "execution_count": 16,
   "metadata": {},
   "outputs": [
    {
     "name": "stdout",
     "output_type": "stream",
     "text": [
      "El numero maximo de la lista es 45765\n",
      "El numero minimo de la lista es 5\n",
      "El numero complejo es 12 es (12+0j)\n",
      "La lista 1 ordenada es asi [5, 12, 34, 45, 67, 899, 2343, 34535, 45765]\n",
      "La lista 1 de mayor a menor es asi [45765, 34535, 2343, 899, 67, 45, 34, 12, 5]\n"
     ]
    }
   ],
   "source": [
    "Lista1= [12,45,67,899,5,34,2343,34535,45765]\n",
    "print(\"El numero maximo de la lista es\", max(Lista1))\n",
    "print(\"El numero minimo de la lista es\", min(Lista1))\n",
    "print(\"El numero complejo es\", Lista1[0], \"es\", complex(Lista1[0]))\n",
    "print(\"La lista 1 ordenada es asi\", sorted(Lista1))\n",
    "print(\"La lista 1 de mayor a menor es asi\", sorted(Lista1, reverse=True))\n",
    "                                                   \n",
    "#help(sorted) Ayuda a saber la funcion del comando sino me acuerdo"
   ]
  },
  {
   "cell_type": "markdown",
   "metadata": {},
   "source": [
    "# Metodos\n",
    "\n",
    "### Propiedad de la lista"
   ]
  },
  {
   "cell_type": "code",
   "execution_count": 47,
   "metadata": {},
   "outputs": [
    {
     "name": "stdout",
     "output_type": "stream",
     "text": [
      "3\n",
      "2\n",
      "['e', 'b', 'c', 'd', 'a']\n"
     ]
    }
   ],
   "source": [
    "#Declarar funciones\n",
    "\n",
    "ListaLetras=[\"a\",\"b\",\"c\",\"d\",\"a\"]\n",
    "posicionA= ListaLetras.index(\"d\")# Me indica la posicion de lo que busco\n",
    "\n",
    "print(posicionA)\n",
    "\n",
    "repeticionA = ListaLetras.count(\"a\") #cuantas veces esta a en la lista\n",
    "print(repeticionA)\n",
    "\n",
    "ListaCorrecta= ListaLetras[ListaLetras.index(\"a\")].replace(\"a\", \"e\")\n",
    "ListaLetras[ListaLetras.index(\"a\")]= ListaCorrecta\n",
    "print(ListaLetras)\n"
   ]
  }
 ],
 "metadata": {
  "kernelspec": {
   "display_name": "Python 3",
   "language": "python",
   "name": "python3"
  },
  "language_info": {
   "codemirror_mode": {
    "name": "ipython",
    "version": 3
   },
   "file_extension": ".py",
   "mimetype": "text/x-python",
   "name": "python",
   "nbconvert_exporter": "python",
   "pygments_lexer": "ipython3",
   "version": "3.6.6"
  }
 },
 "nbformat": 4,
 "nbformat_minor": 2
}
