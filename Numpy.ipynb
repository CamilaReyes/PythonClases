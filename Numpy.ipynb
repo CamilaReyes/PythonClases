{
 "cells": [
  {
   "cell_type": "markdown",
   "metadata": {},
   "source": [
    "# Numpy"
   ]
  },
  {
   "cell_type": "code",
   "execution_count": null,
   "metadata": {},
   "outputs": [],
   "source": []
  },
  {
   "cell_type": "code",
   "execution_count": 2,
   "metadata": {},
   "outputs": [
    {
     "name": "stdout",
     "output_type": "stream",
     "text": [
      "[[[0. 0. 0.]\n",
      "  [0. 0. 0.]]]\n",
      "<class 'numpy.ndarray'>\n"
     ]
    }
   ],
   "source": [
    "#Nos permite crear arreglos, son un tipo de objeto que son optimizados para procesarce en grandes cantidades de datos\n",
    "#Importar la libreria dentro de jupiter, le estamos diciendo que busque en el directorio\n",
    "\n",
    "\n",
    "import numpy as np #Importar libreria \"as\" le colocamos un nombre a la libreria con la cual la podemos seguir llamando\n",
    "\n",
    "a=[1,2,3]\n",
    "b =[\"Nombre\",False, 3.0, 4]\n",
    "\n",
    "npCorrecto= np.ndarray(a) #De tipo lista a Numpy\n",
    "\n",
    "print(npCorrecto)\n",
    "print(type(npCorrecto)) #Verificar en que libreria esta\n"
   ]
  },
  {
   "cell_type": "code",
   "execution_count": 3,
   "metadata": {},
   "outputs": [
    {
     "name": "stdout",
     "output_type": "stream",
     "text": [
      "Nombre\n",
      "<class 'numpy.str_'>\n"
     ]
    }
   ],
   "source": [
    "exper= np.array(b)\n",
    "print(exper[0]) \n",
    "print(type(exper[0])) #String numpy"
   ]
  },
  {
   "cell_type": "code",
   "execution_count": 4,
   "metadata": {},
   "outputs": [
    {
     "ename": "NameError",
     "evalue": "name 'c' is not defined",
     "output_type": "error",
     "traceback": [
      "\u001b[1;31m---------------------------------------------------------------------------\u001b[0m",
      "\u001b[1;31mNameError\u001b[0m                                 Traceback (most recent call last)",
      "\u001b[1;32m<ipython-input-4-f1c0db539975>\u001b[0m in \u001b[0;36m<module>\u001b[1;34m\u001b[0m\n\u001b[0;32m      4\u001b[0m \u001b[0mnpCorrect2\u001b[0m \u001b[1;33m=\u001b[0m \u001b[0mnp\u001b[0m\u001b[1;33m.\u001b[0m\u001b[0marray\u001b[0m\u001b[1;33m(\u001b[0m\u001b[0mC\u001b[0m\u001b[1;33m)\u001b[0m \u001b[1;31m#De tipo lista a Numpy\u001b[0m\u001b[1;33m\u001b[0m\u001b[0m\n\u001b[0;32m      5\u001b[0m \u001b[1;33m\u001b[0m\u001b[0m\n\u001b[1;32m----> 6\u001b[1;33m \u001b[0mprint\u001b[0m\u001b[1;33m(\u001b[0m\u001b[0mc\u001b[0m\u001b[1;33m)\u001b[0m\u001b[1;33m\u001b[0m\u001b[0m\n\u001b[0m\u001b[0;32m      7\u001b[0m \u001b[0mprint\u001b[0m \u001b[1;33m(\u001b[0m\u001b[0mlen\u001b[0m\u001b[1;33m(\u001b[0m\u001b[0mC\u001b[0m\u001b[1;33m)\u001b[0m\u001b[1;33m)\u001b[0m\u001b[1;33m\u001b[0m\u001b[0m\n\u001b[0;32m      8\u001b[0m \u001b[0mprint\u001b[0m\u001b[1;33m(\u001b[0m\u001b[0mnpCorrect2\u001b[0m\u001b[1;33m)\u001b[0m\u001b[1;33m\u001b[0m\u001b[0m\n",
      "\u001b[1;31mNameError\u001b[0m: name 'c' is not defined"
     ]
    }
   ],
   "source": [
    "#Una lista de listas\n",
    "\n",
    "C=[[1,2,3],[4,5,6],[7,8,9]]\n",
    "npCorrect2 = np.array(C) #De tipo lista a Numpy\n",
    "\n",
    "print(c)\n",
    "print (len(C))\n",
    "print(npCorrect2)\n",
    "print(npCorrect2.shape) #NUmero de columnas y filas"
   ]
  },
  {
   "cell_type": "code",
   "execution_count": null,
   "metadata": {},
   "outputs": [],
   "source": [
    "exper= np.array(c)\n",
    "print(npCorrect2[1][1]) #Ir a una ubicacion exacta del arreglo\n",
    "\n",
    "\n",
    "npCorrect2[1,1]=15 #Modificar un dato en especifico\n",
    "npCorrect2[2,2]=19 #Manera mas optima de modificar\n",
    "print(npCorrect2) \n",
    "print(npCorrect2.size)#Cuantos elementos hay dentro de la matriz\n"
   ]
  },
  {
   "cell_type": "code",
   "execution_count": null,
   "metadata": {},
   "outputs": [],
   "source": [
    "3d = [[[1,2,3],[1,2,3]]],[[-,-]]"
   ]
  },
  {
   "cell_type": "code",
   "execution_count": null,
   "metadata": {},
   "outputs": [],
   "source": [
    "#Lista de una dimension\n",
    "\n",
    "Lista1dimen=[1,2,3]\n",
    "Lista2dimen= [[1,2,3],[4,5,6]]\n",
    "Lista3dimen= [[[1,2,3],[4,5,6],[7,8,9],[10,11,12]]]\n",
    "np1dimen= np.array(Lista1dimen)\n",
    "np2dimen= np.array(Lista2dimen)\n",
    "np3dimen= np.array(Lista3dimen)\n",
    "\n",
    "print(np1dimen, \"\\n---------\")\n",
    "print(np1dimen.shape, \"\\n---------\")\n",
    "print(np2dimen, \"\\n---------\")\n",
    "print(np2dimen.shape, \"\\n---------\")\n",
    "print(np3dimen, \"\\n---------\")\n",
    "print(np3dimen.shape, \"\\n---------\")"
   ]
  },
  {
   "cell_type": "code",
   "execution_count": 33,
   "metadata": {},
   "outputs": [
    {
     "ename": "AttributeError",
     "evalue": "'range' object has no attribute 'append'",
     "output_type": "error",
     "traceback": [
      "\u001b[1;31m---------------------------------------------------------------------------\u001b[0m",
      "\u001b[1;31mAttributeError\u001b[0m                            Traceback (most recent call last)",
      "\u001b[1;32m<ipython-input-33-c972960b06ba>\u001b[0m in \u001b[0;36m<module>\u001b[1;34m\u001b[0m\n\u001b[0;32m      1\u001b[0m \u001b[0marray1\u001b[0m \u001b[1;33m=\u001b[0m \u001b[0mnp\u001b[0m\u001b[1;33m.\u001b[0m\u001b[0marange\u001b[0m\u001b[1;33m(\u001b[0m\u001b[1;36m0\u001b[0m\u001b[1;33m,\u001b[0m\u001b[1;36m8\u001b[0m\u001b[1;33m,\u001b[0m\u001b[1;36m1\u001b[0m\u001b[1;33m)\u001b[0m \u001b[1;31m#Crear un bector posicion 10, hasta el 20 de 6 en 6\u001b[0m\u001b[1;33m\u001b[0m\u001b[0m\n\u001b[0;32m      2\u001b[0m \u001b[0mlistaTest\u001b[0m\u001b[1;33m=\u001b[0m \u001b[0mrange\u001b[0m\u001b[1;33m(\u001b[0m\u001b[1;36m8\u001b[0m\u001b[1;33m)\u001b[0m\u001b[1;33m\u001b[0m\u001b[0m\n\u001b[1;32m----> 3\u001b[1;33m \u001b[0mlistaExtendida\u001b[0m\u001b[1;33m=\u001b[0m \u001b[0mnp\u001b[0m\u001b[1;33m.\u001b[0m\u001b[0marray\u001b[0m\u001b[1;33m(\u001b[0m\u001b[0mlistaTest\u001b[0m\u001b[1;33m.\u001b[0m\u001b[0mappend\u001b[0m\u001b[1;33m(\u001b[0m\u001b[1;36m9\u001b[0m\u001b[1;33m)\u001b[0m\u001b[1;33m)\u001b[0m\u001b[1;33m\u001b[0m\u001b[0m\n\u001b[0m\u001b[0;32m      4\u001b[0m \u001b[1;31m#truncadaarray= array1[0:9]\u001b[0m\u001b[1;33m\u001b[0m\u001b[1;33m\u001b[0m\u001b[0m\n\u001b[0;32m      5\u001b[0m \u001b[1;31m#truncadaarray= array1.append(np.mean()) NO FUNCIONA\u001b[0m\u001b[1;33m\u001b[0m\u001b[1;33m\u001b[0m\u001b[0m\n",
      "\u001b[1;31mAttributeError\u001b[0m: 'range' object has no attribute 'append'"
     ]
    }
   ],
   "source": [
    "array1 = np.arange(0,8,1) #Crear un bector posicion 10, hasta el 20 de 6 en 6\n",
    "listaTest= range(8)\n",
    "listaExtendida= np.array(listaTest.append(9))\n",
    "#truncadaarray= array1[0:9]\n",
    "#truncadaarray= array1.append(np.mean()) NO FUNCIONA\n",
    "print(array1)\n",
    "print(type(array1))\n",
    "print(listaTest)\n",
    "#lista = range(0,20, 2)#No funciona debe ser con Numpy\n",
    "#print(lista)\n",
    "\n",
    "\n",
    "print(array1.shape) #Cuanrtos elementos o filas tiene de una dimension\n",
    "\n",
    "\n",
    "\n",
    "#Cambiar las dimensiones  de un bector que ya creamos\n",
    "#nuevasDime= array1.reshape(3,3,3) #Lo pasa a 3 filas con 3 columnas, tiene que ser proporcional con el numero de elementos\n",
    "nuevasDime= listaExtendida.reshape(3,3)\n",
    "print(nuevasDime)\n",
    "\n"
   ]
  },
  {
   "cell_type": "code",
   "execution_count": 37,
   "metadata": {},
   "outputs": [
    {
     "name": "stdout",
     "output_type": "stream",
     "text": [
      "[0 1 2 3 4 5 6 7 8]\n",
      "[ 0.    1.25  2.5   3.75  5.    6.25  7.5   8.75 10.  ]\n"
     ]
    }
   ],
   "source": [
    "Array2 = np.arange(0,9,1)\n",
    "Array3 = np.linspace(0,10,9) #cuantas casillas quiere que imprima, divide 10 en 9\n",
    "\n",
    "print(Array2)\n",
    "print(Array3)"
   ]
  },
  {
   "cell_type": "code",
   "execution_count": 46,
   "metadata": {},
   "outputs": [
    {
     "name": "stdout",
     "output_type": "stream",
     "text": [
      "[0.         0.6981317  1.3962634  2.0943951  2.7925268  3.4906585\n",
      " 4.1887902  4.88692191 5.58505361 6.28318531] \n",
      "----------\n",
      "[ 0.00000000e+00  6.42787610e-01  9.84807753e-01  8.66025404e-01\n",
      "  3.42020143e-01 -3.42020143e-01 -8.66025404e-01 -9.84807753e-01\n",
      " -6.42787610e-01 -2.44929360e-16]\n"
     ]
    }
   ],
   "source": [
    "#Funciones predeterminadas\n",
    "\n",
    "valoresdeSeno= np.linspace(0, 2*np.pi,10)\n",
    "print(valoresdeSeno, \"\\n----------\" )\n",
    "#Sacaer el seno de esos valores\n",
    "\n",
    "seno=np.sin(valoresdeSeno)\n",
    "print(seno)"
   ]
  },
  {
   "cell_type": "code",
   "execution_count": 47,
   "metadata": {},
   "outputs": [],
   "source": [
    "arreglo5= np.array([[1,2],[3,4]])\n",
    "arreglo6= np.array([[4,3],[2,1]])"
   ]
  },
  {
   "cell_type": "code",
   "execution_count": null,
   "metadata": {},
   "outputs": [],
   "source": [
    "A= arreglo5.dot(arreglo6)\n",
    "\n",
    "B= arreglo6.dot(arreglo5)"
   ]
  },
  {
   "cell_type": "code",
   "execution_count": 49,
   "metadata": {},
   "outputs": [
    {
     "name": "stdout",
     "output_type": "stream",
     "text": [
      "[[5 5]\n",
      " [5 5]]\n",
      "[[-3 -1]\n",
      " [ 1  3]]\n",
      "[[ 1  4]\n",
      " [ 9 16]]\n"
     ]
    }
   ],
   "source": [
    "#Sumas de matrices\n",
    "print(arreglo5+arreglo6)\n",
    "#resta de matrices\n",
    "print(arreglo5-arreglo6)\n",
    "\n",
    "#Elevacion punto a punto\n",
    "print(arreglo5**2)\n",
    "\n",
    "\n"
   ]
  },
  {
   "cell_type": "code",
   "execution_count": 60,
   "metadata": {},
   "outputs": [
    {
     "ename": "NameError",
     "evalue": "name 'A' is not defined",
     "output_type": "error",
     "traceback": [
      "\u001b[1;31m---------------------------------------------------------------------------\u001b[0m",
      "\u001b[1;31mNameError\u001b[0m                                 Traceback (most recent call last)",
      "\u001b[1;32m<ipython-input-60-123b9c8aa65a>\u001b[0m in \u001b[0;36m<module>\u001b[1;34m\u001b[0m\n\u001b[0;32m      1\u001b[0m \u001b[1;31m#CONCATENAR MATRICES VERTICALMENTE\u001b[0m\u001b[1;33m\u001b[0m\u001b[1;33m\u001b[0m\u001b[0m\n\u001b[0;32m      2\u001b[0m \u001b[1;33m\u001b[0m\u001b[0m\n\u001b[1;32m----> 3\u001b[1;33m \u001b[0mconcaVertical1\u001b[0m\u001b[1;33m=\u001b[0m\u001b[0mnp\u001b[0m\u001b[1;33m.\u001b[0m\u001b[0mvstack\u001b[0m\u001b[1;33m(\u001b[0m\u001b[1;33m(\u001b[0m\u001b[0mA\u001b[0m\u001b[1;33m,\u001b[0m\u001b[0mB\u001b[0m\u001b[1;33m)\u001b[0m\u001b[1;33m)\u001b[0m\u001b[1;33m\u001b[0m\u001b[0m\n\u001b[0m\u001b[0;32m      4\u001b[0m \u001b[0mconcaVertical2\u001b[0m\u001b[1;33m=\u001b[0m\u001b[0mnp\u001b[0m\u001b[1;33m.\u001b[0m\u001b[0mconcatenate\u001b[0m\u001b[1;33m(\u001b[0m\u001b[1;33m(\u001b[0m\u001b[0mA\u001b[0m\u001b[1;33m,\u001b[0m\u001b[0mB\u001b[0m\u001b[1;33m)\u001b[0m\u001b[1;33m,\u001b[0m \u001b[0maxis\u001b[0m \u001b[1;33m=\u001b[0m\u001b[1;36m0\u001b[0m\u001b[1;33m)\u001b[0m\u001b[1;31m#Axis son ejes, que las pegue por el eje x0\u001b[0m\u001b[1;33m\u001b[0m\u001b[0m\n\u001b[0;32m      5\u001b[0m \u001b[0mprint\u001b[0m\u001b[1;33m(\u001b[0m\u001b[0mconcaVertical1\u001b[0m\u001b[1;33m,\u001b[0m\u001b[1;34m\"----------------------\\n\"\u001b[0m\u001b[1;33m,\u001b[0m\u001b[0mconcaVertical2\u001b[0m \u001b[1;33m)\u001b[0m\u001b[1;33m\u001b[0m\u001b[0m\n",
      "\u001b[1;31mNameError\u001b[0m: name 'A' is not defined"
     ]
    }
   ],
   "source": [
    "#CONCATENAR MATRICES VERTICALMENTE\n",
    "\n",
    "concaVertical1=np.vstack((A,B))\n",
    "concaVertical2=np.concatenate((A,B), axis =0)#Axis son ejes, que las pegue por el eje x0\n",
    "print(concaVertical1,\"----------------------\\n\",concaVertical2 )\n",
    "\n",
    "\n",
    "#CONCATENAR HORIZONTAL\n",
    "\n",
    "concaVertical11=np.hstack((A,B))\n",
    "concaVertical22=np.concatenate((A,B), axis =1)\n",
    "print(concaVertical11,concaVertical22, \"----------------------\\n\")"
   ]
  },
  {
   "cell_type": "code",
   "execution_count": null,
   "metadata": {},
   "outputs": [],
   "source": [
    "aumentaDimensiones= np.dstack((A,B))\n",
    "print(aumentaDimensiones)\n"
   ]
  }
 ],
 "metadata": {
  "kernelspec": {
   "display_name": "Python 3",
   "language": "python",
   "name": "python3"
  },
  "language_info": {
   "codemirror_mode": {
    "name": "ipython",
    "version": 3
   },
   "file_extension": ".py",
   "mimetype": "text/x-python",
   "name": "python",
   "nbconvert_exporter": "python",
   "pygments_lexer": "ipython3",
   "version": "3.6.6"
  }
 },
 "nbformat": 4,
 "nbformat_minor": 2
}
