{
 "cells": [
  {
   "cell_type": "code",
   "execution_count": 5,
   "metadata": {},
   "outputs": [],
   "source": [
    "def readNumber (path):\n",
    "    number=[]\n",
    "    total=[]\n",
    "    try:\n",
    "        with open(path, 'r') as f:\n",
    "            for line in f:\n",
    "                for i in line, split(','):\n",
    "                    number.append(float(i))\n",
    "                    print(len(number))\n",
    "                    if len(number)>=4:\n",
    "                        total.append((number[0], ((number[1]*number[2])*(1 - number[3]))))\n",
    "                        number=[]\n",
    "        return total\n",
    "    except IOError as e:\n",
    "        print(e)\n",
    "    except ValueError:\n",
    "        print(\"No valid integer in line\")\n",
    "    finally:\n",
    "        number.append([1,2,3])\n",
    "        return total"
   ]
  },
  {
   "cell_type": "code",
   "execution_count": 6,
   "metadata": {},
   "outputs": [
    {
     "data": {
      "text/plain": [
       "[]"
      ]
     },
     "execution_count": 6,
     "metadata": {},
     "output_type": "execute_result"
    }
   ],
   "source": [
    "path=\"./number.txt\"\n",
    "readNumber(path)"
   ]
  },
  {
   "cell_type": "code",
   "execution_count": null,
   "metadata": {},
   "outputs": [],
   "source": []
  }
 ],
 "metadata": {
  "kernelspec": {
   "display_name": "Python 3",
   "language": "python",
   "name": "python3"
  },
  "language_info": {
   "codemirror_mode": {
    "name": "ipython",
    "version": 3
   },
   "file_extension": ".py",
   "mimetype": "text/x-python",
   "name": "python",
   "nbconvert_exporter": "python",
   "pygments_lexer": "ipython3",
   "version": "3.6.6"
  }
 },
 "nbformat": 4,
 "nbformat_minor": 2
}
